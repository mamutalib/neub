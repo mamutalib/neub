{
 "cells": [
  {
   "cell_type": "code",
   "execution_count": 8,
   "metadata": {},
   "outputs": [],
   "source": [
    "import numpy as np\n",
    "import matplotlib.pyplot as plt\n"
   ]
  },
  {
   "cell_type": "code",
   "execution_count": 12,
   "metadata": {},
   "outputs": [],
   "source": [
    "def conv (x,h):\n",
    "    lx = len(x)\n",
    "    lh = len(h)\n",
    "    y=np.zeros(lx+lh-1)\n",
    "    \n",
    "    for m in range(lx):\n",
    "        for n in range(lh):\n",
    "            y[m+n] = y[m+n] + x[m]*h[n]\n",
    "        \n",
    "    return y"
   ]
  },
  {
   "cell_type": "code",
   "execution_count": 13,
   "metadata": {},
   "outputs": [
    {
     "name": "stdout",
     "output_type": "stream",
     "text": [
      "[ 1.  4.  8.  8.  3. -2. -1.]\n",
      "[1. 2. 3. 1.]\n",
      "[ 1.  4.  8.  8.  3. -2. -1.]\n"
     ]
    }
   ],
   "source": [
    "x=[1,2,3,1]\n",
    "h=[1,2,1,-1]\n",
    "y= conv(x,h)\n",
    "print(y)\n",
    "\n",
    "d = np.zeros(1)\n",
    "d[0] = 1\n",
    "\n",
    "#identity property\n",
    "yi = conv(x,d)\n",
    "print(yi)\n",
    "\n",
    "#commutative property\n",
    "yc = conv(h,x)\n",
    "print(yc)"
   ]
  },
  {
   "cell_type": "code",
   "execution_count": 14,
   "metadata": {},
   "outputs": [
    {
     "name": "stdout",
     "output_type": "stream",
     "text": [
      "[ 1  4  8  8  3 -2 -1]\n"
     ]
    }
   ],
   "source": [
    "z=np.convolve(x,h, 'full')\n",
    "print(z)"
   ]
  },
  {
   "cell_type": "code",
   "execution_count": null,
   "metadata": {},
   "outputs": [],
   "source": []
  }
 ],
 "metadata": {
  "kernelspec": {
   "display_name": "Python 3",
   "language": "python",
   "name": "python3"
  },
  "language_info": {
   "codemirror_mode": {
    "name": "ipython",
    "version": 3
   },
   "file_extension": ".py",
   "mimetype": "text/x-python",
   "name": "python",
   "nbconvert_exporter": "python",
   "pygments_lexer": "ipython3",
   "version": "3.8.5"
  }
 },
 "nbformat": 4,
 "nbformat_minor": 4
}
