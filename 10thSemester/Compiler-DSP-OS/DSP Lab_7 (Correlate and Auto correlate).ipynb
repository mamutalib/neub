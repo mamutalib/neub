{
 "cells": [
  {
   "cell_type": "code",
   "execution_count": 4,
   "id": "ef7972f6",
   "metadata": {},
   "outputs": [],
   "source": [
    "import numpy as np\n",
    "import matplotlib.pyplot as plt"
   ]
  },
  {
   "cell_type": "code",
   "execution_count": 9,
   "id": "9a3c925e",
   "metadata": {},
   "outputs": [
    {
     "name": "stdout",
     "output_type": "stream",
     "text": [
      "[  2.   6.   3.  13.  -7.  15. -10.  -4.   2.]\n",
      "[  4   8   6  10 -12  13  -9  -1   1]\n"
     ]
    }
   ],
   "source": [
    "def conv(x,h):\n",
    "    lx = len(x)\n",
    "    lh = len(h)\n",
    "    y = np.zeros(lx+lh-1)\n",
    "    \n",
    "    for m in range(lx):\n",
    "        for n in range(lh):\n",
    "            y[m+n] = y[m+n] + x[m]*h[n]\n",
    "    return y\n",
    "        \n",
    "x=[2,0,3,-4,1]\n",
    "h=[1,3,0,4,2]\n",
    "        \n",
    "y = conv(x,h)\n",
    "print(y)\n",
    "\n",
    "z = np.correlate(x,h,'full')\n",
    "print(z)"
   ]
  },
  {
   "cell_type": "code",
   "execution_count": 10,
   "id": "4634a80d",
   "metadata": {},
   "outputs": [
    {
     "name": "stdout",
     "output_type": "stream",
     "text": [
      "[ 4. 11.  6. 14. 30. 14.  6. 11.  4.]\n",
      "[ 4 11  6 14 30 14  6 11  4]\n"
     ]
    }
   ],
   "source": [
    "x=[1,2,0,3,4]\n",
    "#auto correlation\n",
    "y=conv(x,np.flip(x))\n",
    "print(y)\n",
    "\n",
    "z = np.correlate(x,x,'full')\n",
    "print(z)"
   ]
  },
  {
   "cell_type": "code",
   "execution_count": 12,
   "id": "9a56dae7",
   "metadata": {},
   "outputs": [
    {
     "name": "stdout",
     "output_type": "stream",
     "text": [
      "[-1.  0.  5.  2.  8. 11. 13. 12.]\n",
      "[-1  0  5  2  8 11 13 12]\n"
     ]
    }
   ],
   "source": [
    "def crosscorr(x,h):\n",
    "    lx = len(x)\n",
    "    h = np.flip(h)\n",
    "    lh = len(h)\n",
    "    y = np.zeros(lx+lh-1)\n",
    "    \n",
    "    for m in range(lx):\n",
    "        for n in range(lh):\n",
    "            y[m+n] = y[m+n] + x[m]*h[n]\n",
    "    return y\n",
    "\n",
    "x=[1,2,0,3,4]\n",
    "y=[3,1,2,0-1]\n",
    "\n",
    "rxy = crosscorr(x,y)\n",
    "print(rxy)\n",
    "z=np.correlate(x,y,'full')\n",
    "print (z)"
   ]
  },
  {
   "cell_type": "code",
   "execution_count": 13,
   "id": "2db0a726",
   "metadata": {},
   "outputs": [
    {
     "name": "stdout",
     "output_type": "stream",
     "text": [
      "[ 4. 11.  6. 14. 30. 14.  6. 11.  4.]\n",
      "[ 4 11  6 14 30 14  6 11  4]\n"
     ]
    }
   ],
   "source": [
    "#auto-correlation\n",
    "y=crosscorr(x,x)\n",
    "print(y)\n",
    "\n",
    "z=np.correlate(x,x,'full')\n",
    "print(z)"
   ]
  },
  {
   "cell_type": "code",
   "execution_count": null,
   "id": "ed2c73bc",
   "metadata": {},
   "outputs": [],
   "source": []
  }
 ],
 "metadata": {
  "kernelspec": {
   "display_name": "Python 3 (ipykernel)",
   "language": "python",
   "name": "python3"
  },
  "language_info": {
   "codemirror_mode": {
    "name": "ipython",
    "version": 3
   },
   "file_extension": ".py",
   "mimetype": "text/x-python",
   "name": "python",
   "nbconvert_exporter": "python",
   "pygments_lexer": "ipython3",
   "version": "3.9.12"
  }
 },
 "nbformat": 4,
 "nbformat_minor": 5
}
