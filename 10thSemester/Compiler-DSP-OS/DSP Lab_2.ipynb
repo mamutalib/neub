{
 "cells": [
  {
   "cell_type": "code",
   "execution_count": 3,
   "metadata": {},
   "outputs": [
    {
     "name": "stdout",
     "output_type": "stream",
     "text": [
      "even\n"
     ]
    }
   ],
   "source": [
    "x=10\n",
    "if x%2==0:\n",
    "    print('even')\n",
    "else:\n",
    "    print('odd')"
   ]
  },
  {
   "cell_type": "code",
   "execution_count": 5,
   "metadata": {},
   "outputs": [
    {
     "name": "stdout",
     "output_type": "stream",
     "text": [
      "Enter a number: 11\n",
      "11 odd\n"
     ]
    }
   ],
   "source": [
    "x=13\n",
    "x = int(input('Enter a number: '))\n",
    "if x%2==0:\n",
    "    print(x, 'even')\n",
    "else:\n",
    "    print(x, 'odd')\n",
    "    "
   ]
  },
  {
   "cell_type": "code",
   "execution_count": 8,
   "metadata": {},
   "outputs": [
    {
     "name": "stdout",
     "output_type": "stream",
     "text": [
      "Enter a number: 5\n",
      "120\n"
     ]
    }
   ],
   "source": [
    "f = 1;\n",
    "x = int(input('Enter a number: '))\n",
    "for i in range(1,x+1):\n",
    "    f = f * i\n",
    "print(f)"
   ]
  },
  {
   "cell_type": "code",
   "execution_count": 9,
   "metadata": {},
   "outputs": [
    {
     "name": "stdout",
     "output_type": "stream",
     "text": [
      "[-2, 0, 3, 4, 12, 99, 120, 222]\n"
     ]
    }
   ],
   "source": [
    "x=[4,0,-2,12,222,99,120,3]\n",
    "for i in range(len(x)):\n",
    "    for j in range(len(x)-1):\n",
    "        if x[j] > x[j+1]:\n",
    "            temp = x[j]\n",
    "            x[j] = x[j+1]\n",
    "            x[j+1] = temp\n",
    "print(x)"
   ]
  },
  {
   "cell_type": "code",
   "execution_count": null,
   "metadata": {},
   "outputs": [],
   "source": []
  }
 ],
 "metadata": {
  "kernelspec": {
   "display_name": "Python 3",
   "language": "python",
   "name": "python3"
  },
  "language_info": {
   "codemirror_mode": {
    "name": "ipython",
    "version": 3
   },
   "file_extension": ".py",
   "mimetype": "text/x-python",
   "name": "python",
   "nbconvert_exporter": "python",
   "pygments_lexer": "ipython3",
   "version": "3.8.5"
  }
 },
 "nbformat": 4,
 "nbformat_minor": 4
}
