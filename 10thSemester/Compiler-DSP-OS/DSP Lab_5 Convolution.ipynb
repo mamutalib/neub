{
 "cells": [
  {
   "cell_type": "code",
   "execution_count": 1,
   "metadata": {},
   "outputs": [],
   "source": [
    "import numpy as np\n",
    "import matplotlib.pyplot as plt\n",
    "\n",
    "\n",
    "  "
   ]
  },
  {
   "cell_type": "code",
   "execution_count": 2,
   "metadata": {},
   "outputs": [
    {
     "name": "stdout",
     "output_type": "stream",
     "text": [
      "[ 1.  4.  8.  8.  3. -2. -1.]\n"
     ]
    }
   ],
   "source": [
    "x=[1,2,3,1]\n",
    "h=[1,2,1,-1]\n",
    "lx=len(x)\n",
    "lh=len(h)\n",
    "y=np.zeros(lx+lh-1)\n",
    "\n",
    "for m in range(lx):\n",
    "    for n in range(lh):\n",
    "        y[m+n] = y[m+n] + x[m]*h[n]\n",
    "print(y)"
   ]
  },
  {
   "cell_type": "code",
   "execution_count": 3,
   "metadata": {},
   "outputs": [
    {
     "name": "stdout",
     "output_type": "stream",
     "text": [
      "[ 1  4  8  8  3 -2 -1]\n"
     ]
    }
   ],
   "source": [
    "z=np.convolve(x,h,'full')\n",
    "print(z)"
   ]
  },
  {
   "cell_type": "code",
   "execution_count": null,
   "metadata": {},
   "outputs": [],
   "source": []
  }
 ],
 "metadata": {
  "kernelspec": {
   "display_name": "Python 3",
   "language": "python",
   "name": "python3"
  },
  "language_info": {
   "codemirror_mode": {
    "name": "ipython",
    "version": 3
   },
   "file_extension": ".py",
   "mimetype": "text/x-python",
   "name": "python",
   "nbconvert_exporter": "python",
   "pygments_lexer": "ipython3",
   "version": "3.8.5"
  }
 },
 "nbformat": 4,
 "nbformat_minor": 4
}
