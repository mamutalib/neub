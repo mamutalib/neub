{
 "cells": [
  {
   "cell_type": "code",
   "execution_count": 22,
   "metadata": {},
   "outputs": [
    {
     "name": "stdout",
     "output_type": "stream",
     "text": [
      "[ 1.  4.  8.  8.  3. -2. -1.]\n",
      "[1. 2. 3. 1.]\n",
      "[ 1.  4.  8.  8.  3. -2. -1.]\n",
      "[ 1.  6. 19. 37. 47. 36. 12. -5. -5. -1.]\n",
      "[ 1.  6. 19. 37. 47. 36. 12. -5. -5. -1.]\n",
      "[ 1.  4.  8.  8.  4.  2.  9. 14. 13.  6.  1.]\n",
      "[ 2.  8. 18. 22. 16.  4.  0.]\n"
     ]
    }
   ],
   "source": [
    "import numpy as np\n",
    "import matplotlib.pyplot as plt\n",
    "\n",
    "def conv(x, h):\n",
    "    lx = len(x)\n",
    "    lh = len(h)\n",
    "    y = np.zeros(lx+lh-1)\n",
    "    \n",
    "    for m in range(lx):\n",
    "        for n in range(lh):\n",
    "            y[m+n] = y[m+n] + x[m]*h[n]\n",
    "    return y\n",
    "x = [1,2,3,1]\n",
    "h = [1, 2, 1, -1]\n",
    "\n",
    "y = conv(x, h)\n",
    "print(y)\n",
    "\n",
    "d = np.zeros(1)\n",
    "d[0] = 1\n",
    "\n",
    "#identity law\n",
    "yi = conv(x, d)\n",
    "print(yi)\n",
    "\n",
    "#communitative property\n",
    "yc = conv(h, x)\n",
    "print(yc) \n",
    "\n",
    "#assosiative law \n",
    "h2 = [1,2 ,3, 1]\n",
    "ya = conv(yc, h2)\n",
    "print(ya) \n",
    "\n",
    "yb = conv(h2, yc)\n",
    "print(yb)\n",
    "\n",
    "#distributive law \n",
    "yd1 = conv(x, h + h2)\n",
    "print(yd1)\n",
    "\n",
    "yd2 = conv(x, h) + conv(x, h2)\n",
    "print(yd2)\n"
   ]
  },
  {
   "cell_type": "code",
   "execution_count": null,
   "metadata": {},
   "outputs": [],
   "source": [
    "\n"
   ]
  },
  {
   "cell_type": "code",
   "execution_count": null,
   "metadata": {},
   "outputs": [],
   "source": []
  }
 ],
 "metadata": {
  "kernelspec": {
   "display_name": "Python 3 (ipykernel)",
   "language": "python",
   "name": "python3"
  },
  "language_info": {
   "codemirror_mode": {
    "name": "ipython",
    "version": 3
   },
   "file_extension": ".py",
   "mimetype": "text/x-python",
   "name": "python",
   "nbconvert_exporter": "python",
   "pygments_lexer": "ipython3",
   "version": "3.9.12"
  }
 },
 "nbformat": 4,
 "nbformat_minor": 4
}
