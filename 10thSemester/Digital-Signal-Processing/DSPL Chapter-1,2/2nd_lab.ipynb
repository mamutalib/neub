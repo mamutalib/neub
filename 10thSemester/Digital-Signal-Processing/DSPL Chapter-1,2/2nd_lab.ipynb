{
 "cells": [
  {
   "cell_type": "code",
   "execution_count": 1,
   "id": "a2d130ce",
   "metadata": {},
   "outputs": [
    {
     "name": "stdout",
     "output_type": "stream",
     "text": [
      "x is even\n"
     ]
    }
   ],
   "source": [
    "x = 10\n",
    "if x%2 == 0:\n",
    "    print(\"x is even\")\n",
    "else:\n",
    "    print(\"x is odd\")"
   ]
  },
  {
   "cell_type": "code",
   "execution_count": 2,
   "id": "75a82d11",
   "metadata": {},
   "outputs": [
    {
     "name": "stdout",
     "output_type": "stream",
     "text": [
      "13216546545 is odd\n"
     ]
    }
   ],
   "source": [
    "x = int(input())\n",
    "if x%2 == 0:\n",
    "    print(x,\"is even\")\n",
    "else:\n",
    "    print(x,\"is odd\")"
   ]
  },
  {
   "cell_type": "code",
   "execution_count": 4,
   "id": "c5ff5e26",
   "metadata": {},
   "outputs": [
    {
     "name": "stdout",
     "output_type": "stream",
     "text": [
      "120\n"
     ]
    }
   ],
   "source": [
    "f = 1\n",
    "x = int(input(\"Enter a number: \"))\n",
    "for i in range(1, x+1):\n",
    "    f = f * i\n",
    "print(f)\n",
    "    "
   ]
  },
  {
   "cell_type": "code",
   "execution_count": 5,
   "id": "a1abaa5f",
   "metadata": {},
   "outputs": [
    {
     "name": "stdout",
     "output_type": "stream",
     "text": [
      "[-2, 0, 3, 4, 12, 99, 120, 222]\n"
     ]
    }
   ],
   "source": [
    "x = [4, 0, -2, 12, 222, 99, 120, 3]\n",
    "for i in range(len(x)):\n",
    "    for j in range(len(x) - 1):\n",
    "        if x[j] > x[j+1]:\n",
    "            temp = x[j]\n",
    "            x[j] = x[j+1]\n",
    "            x[j+1] = temp\n",
    "print(x)"
   ]
  },
  {
   "cell_type": "code",
   "execution_count": 9,
   "id": "3c7ff9c7",
   "metadata": {},
   "outputs": [
    {
     "name": "stdout",
     "output_type": "stream",
     "text": [
      "[-2, 0, 3, 4, 12, 99, 120, 222]\n"
     ]
    }
   ],
   "source": [
    "n = [4,0,-2,12,222,99,120,3]\n",
    "for i in range(len(n)):\n",
    "    for j in range(len(n)-i-1):\n",
    "        if n[j]>n[j+1]:\n",
    "            temp = n[j]\n",
    "            n[j] = n[j+1]\n",
    "            n[j+1] = temp\n",
    "\n",
    "print(n)"
   ]
  }
 ],
 "metadata": {
  "kernelspec": {
   "display_name": "Python 3 (ipykernel)",
   "language": "python",
   "name": "python3"
  },
  "language_info": {
   "codemirror_mode": {
    "name": "ipython",
    "version": 3
   },
   "file_extension": ".py",
   "mimetype": "text/x-python",
   "name": "python",
   "nbconvert_exporter": "python",
   "pygments_lexer": "ipython3",
   "version": "3.9.13"
  }
 },
 "nbformat": 4,
 "nbformat_minor": 5
}
