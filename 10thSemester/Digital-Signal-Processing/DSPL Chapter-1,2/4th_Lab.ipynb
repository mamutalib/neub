{
 "cells": [
  {
   "cell_type": "code",
   "execution_count": 4,
   "id": "6d91e573",
   "metadata": {},
   "outputs": [],
   "source": [
    "import numpy as np\n",
    "e = np.random.random((2,2))"
   ]
  },
  {
   "cell_type": "code",
   "execution_count": 5,
   "id": "7869feae",
   "metadata": {},
   "outputs": [
    {
     "name": "stdout",
     "output_type": "stream",
     "text": [
      "[[0.54071239 0.01372608]\n",
      " [0.6491994  0.26511005]]\n"
     ]
    }
   ],
   "source": [
    "print(e)"
   ]
  },
  {
   "cell_type": "code",
   "execution_count": 16,
   "id": "bc5a7498",
   "metadata": {},
   "outputs": [
    {
     "name": "stdout",
     "output_type": "stream",
     "text": [
      "[3, 2, 0, 4, 6, -1, 3, -2]\n"
     ]
    },
    {
     "data": {
      "text/plain": [
       "<function matplotlib.pyplot.figure(num=None, figsize=None, dpi=None, facecolor=None, edgecolor=None, frameon=True, FigureClass=<class 'matplotlib.figure.Figure'>, clear=False, **kwargs)>"
      ]
     },
     "execution_count": 16,
     "metadata": {},
     "output_type": "execute_result"
    },
    {
     "data": {
      "image/png": "[encoded data removed]",
      "text/plain": [
       "<Figure size 432x288 with 1 Axes>"
      ]
     },
     "metadata": {
      "needs_background": "light"
     },
     "output_type": "display_data"
    }
   ],
   "source": [
    "import matplotlib.pyplot as plt \n",
    "x = [3, 2, 0 , 4 , 6,  -1 , 3, -2]\n",
    "y = range(-3, 5)\n",
    "print(x)\n",
    "plt.stem(x, y)\n",
    "#plt.stem(y)\n",
    "k = 1\n",
    "plt.figure\n"
   ]
  },
  {
   "cell_type": "code",
   "execution_count": 25,
   "id": "72b6509e",
   "metadata": {},
   "outputs": [
    {
     "data": {
      "text/plain": [
       "<StemContainer object of 3 artists>"
      ]
     },
     "execution_count": 25,
     "metadata": {},
     "output_type": "execute_result"
    },
    {
     "data": {
      "image/png": "[encoded data removed]",
      "text/plain": [
       "<Figure size 432x288 with 3 Axes>"
      ]
     },
     "metadata": {
      "needs_background": "light"
     },
     "output_type": "display_data"
    }
   ],
   "source": [
    "import matplotlib.pyplot as plt \n",
    "import numpy as np\n",
    "y = [3, 2, 0 , 4 , 6,  -1 , 3, -2]\n",
    "x = np.arange(-3, 5)\n",
    "plt.subplot(3, 1, 1)\n",
    "plt.stem(x, y)\n",
    "#plt.stem(y)\n",
    "plt.subplot(3, 1, 2)\n",
    "#plt.figure(figsize=(10,6))\n",
    "k = 1\n",
    "plt.stem(x+k, y)\n",
    "plt.subplot(3, 1, 3)\n",
    "k = 1\n",
    "plt.stem(x-k, y)"
   ]
  },
  {
   "cell_type": "code",
   "execution_count": null,
   "id": "26816664",
   "metadata": {},
   "outputs": [],
   "source": []
  }
 ],
 "metadata": {
  "kernelspec": {
   "display_name": "Python 3 (ipykernel)",
   "language": "python",
   "name": "python3"
  },
  "language_info": {
   "codemirror_mode": {
    "name": "ipython",
    "version": 3
   },
   "file_extension": ".py",
   "mimetype": "text/x-python",
   "name": "python",
   "nbconvert_exporter": "python",
   "pygments_lexer": "ipython3",
   "version": "3.9.12"
  }
 },
 "nbformat": 4,
 "nbformat_minor": 5
}
