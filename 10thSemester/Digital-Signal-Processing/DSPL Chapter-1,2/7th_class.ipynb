{
 "cells": [
  {
   "cell_type": "code",
   "execution_count": 9,
   "id": "f623ee67",
   "metadata": {},
   "outputs": [
    {
     "name": "stdout",
     "output_type": "stream",
     "text": [
      "[  4.   8.   6.  10. -12.  13.  -9.  -1.   1.]\n",
      "[  4   8   6  10 -12  13  -9  -1   1]\n"
     ]
    }
   ],
   "source": [
    "import numpy as np\n",
    "import matplotlib.pyplot as plt\n",
    "\n",
    "def conv(x, h):\n",
    "    lx = len(x)\n",
    "    lh = len(h)\n",
    "    y = np.zeros(lx+lh-1)\n",
    "    \n",
    "    for m in range(lx):\n",
    "        for n in range(lh):\n",
    "            y[m+n] = y[m+n] + x[m]*h[n]\n",
    "    return y\n",
    "\n",
    "x = [2, 0, 3, -4, 1]\n",
    "h = [1, 3, 0, 4, 2]\n",
    "\n",
    "#cross-correlation\n",
    "y = conv(x,np.flip(h))\n",
    "print(y)\n",
    "\n",
    "z = np.correlate(x, h, 'full')\n",
    "print(z)"
   ]
  },
  {
   "cell_type": "code",
   "execution_count": 10,
   "id": "1f9daba6",
   "metadata": {},
   "outputs": [
    {
     "name": "stdout",
     "output_type": "stream",
     "text": [
      "[ 4. 11.  6. 14. 30. 14.  6. 11.  4.]\n",
      "[ 4 11  6 14 30 14  6 11  4]\n"
     ]
    }
   ],
   "source": [
    "#auto-corellation\n",
    "x = [1, 2, 0, 3, 4]\n",
    "y = conv(x,np.flip(x))\n",
    "print(y)\n",
    "\n",
    "z = np.correlate(x, x, 'full')\n",
    "print(z)"
   ]
  },
  {
   "cell_type": "code",
   "execution_count": 11,
   "id": "f02c6549",
   "metadata": {},
   "outputs": [
    {
     "name": "stdout",
     "output_type": "stream",
     "text": [
      "[-1. -2.  2.  2.  1. 12. 11. 13. 12.]\n",
      "[-1 -2  2  2  1 12 11 13 12]\n"
     ]
    }
   ],
   "source": [
    "#cross-corellation\n",
    "def cross(x, h):\n",
    "    lx = len(x)\n",
    "    h = np.flip(h)\n",
    "    lh = len(h)\n",
    "    y = np.zeros(lx+lh-1)\n",
    "    \n",
    "    for m in range(lx):\n",
    "        for n in range(lh):\n",
    "            y[m+n] = y[m+n] + x[m]*h[n]\n",
    "    return y\n",
    "x = [1, 2, 0, 3, 4]\n",
    "y = [3,1,2,0,-1]\n",
    "\n",
    "rxy = cross(x, y)\n",
    "print(rxy)\n",
    "\n",
    "z = np.correlate(x, y, 'full')\n",
    "print(z)"
   ]
  },
  {
   "cell_type": "code",
   "execution_count": 12,
   "id": "3febd008",
   "metadata": {},
   "outputs": [
    {
     "name": "stdout",
     "output_type": "stream",
     "text": [
      "[ 4. 11.  6. 14. 30. 14.  6. 11.  4.]\n",
      "[ 4 11  6 14 30 14  6 11  4]\n"
     ]
    }
   ],
   "source": [
    "#cross-corellation\n",
    "def cross(x, h):\n",
    "    lx = len(x)\n",
    "    h = np.flip(h)\n",
    "    lh = len(h)\n",
    "    y = np.zeros(lx+lh-1)\n",
    "    \n",
    "    for m in range(lx):\n",
    "        for n in range(lh):\n",
    "            y[m+n] = y[m+n] + x[m]*h[n]\n",
    "    return y\n",
    "x = [1, 2, 0, 3, 4]\n",
    "#y = [3,1,2,0,-1]\n",
    "\n",
    "rxy = cross(x, x)\n",
    "print(rxy)\n",
    "\n",
    "z = np.correlate(x, x, 'full')\n",
    "print(z)"
   ]
  },
  {
   "cell_type": "code",
   "execution_count": null,
   "id": "0b0ffacd",
   "metadata": {},
   "outputs": [],
   "source": []
  }
 ],
 "metadata": {
  "kernelspec": {
   "display_name": "Python 3 (ipykernel)",
   "language": "python",
   "name": "python3"
  },
  "language_info": {
   "codemirror_mode": {
    "name": "ipython",
    "version": 3
   },
   "file_extension": ".py",
   "mimetype": "text/x-python",
   "name": "python",
   "nbconvert_exporter": "python",
   "pygments_lexer": "ipython3",
   "version": "3.9.12"
  }
 },
 "nbformat": 4,
 "nbformat_minor": 5
}
