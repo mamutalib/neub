{
 "cells": [
  {
   "cell_type": "code",
   "execution_count": 7,
   "id": "3693637f",
   "metadata": {},
   "outputs": [
    {
     "name": "stdout",
     "output_type": "stream",
     "text": [
      "[ 1.  4.  8.  8.  3. -2. -1.]\n"
     ]
    }
   ],
   "source": [
    "#convulation sum EX: 2.3.2\n",
    "#1st method\n",
    "import numpy as np\n",
    "import matplotlib.pyplot as plt\n",
    "\n",
    "x = [1, 2, 3, 1]\n",
    "h = [1, 2, 1, -1]\n",
    "lx = len(x)\n",
    "lh = len(h)\n",
    "y = np.zeros(lx+lh-1)\n",
    "\n",
    "for m in range(lx):\n",
    "    for n in range(lh):\n",
    "        y[m+n] = y[m+n] + x[m]*h[n]\n",
    "print(y)"
   ]
  },
  {
   "cell_type": "code",
   "execution_count": 8,
   "id": "a84b4ef8",
   "metadata": {},
   "outputs": [
    {
     "name": "stdout",
     "output_type": "stream",
     "text": [
      "[ 1  4  8  8  3 -2 -1]\n"
     ]
    }
   ],
   "source": [
    "#2nd method relates with 1st\n",
    "z = np.convolve(x, h, 'full')\n",
    "print(z)"
   ]
  },
  {
   "cell_type": "code",
   "execution_count": 9,
   "id": "b78f4be2",
   "metadata": {},
   "outputs": [
    {
     "name": "stdout",
     "output_type": "stream",
     "text": [
      "[ 1  4  8  8  3 -2 -1]\n"
     ]
    }
   ],
   "source": [
    "#3rd method indivitual\n",
    "import numpy as np\n",
    "import matplotlib.pyplot as plt\n",
    "\n",
    "x = [1, 2, 3, 1]\n",
    "h = [1, 2, 1, -1]\n",
    "\n",
    "z = np.convolve(x, h, 'full')\n",
    "print(z)"
   ]
  },
  {
   "cell_type": "code",
   "execution_count": null,
   "id": "58064ae7",
   "metadata": {},
   "outputs": [],
   "source": []
  }
 ],
 "metadata": {
  "kernelspec": {
   "display_name": "Python 3 (ipykernel)",
   "language": "python",
   "name": "python3"
  },
  "language_info": {
   "codemirror_mode": {
    "name": "ipython",
    "version": 3
   },
   "file_extension": ".py",
   "mimetype": "text/x-python",
   "name": "python",
   "nbconvert_exporter": "python",
   "pygments_lexer": "ipython3",
   "version": "3.9.12"
  }
 },
 "nbformat": 4,
 "nbformat_minor": 5
}
