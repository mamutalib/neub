{
 "cells": [
  {
   "attachments": {},
   "cell_type": "markdown",
   "metadata": {},
   "source": [
    "### `FCFS` Disk Scheduling Algorithm"
   ]
  },
  {
   "cell_type": "code",
   "execution_count": 44,
   "metadata": {},
   "outputs": [
    {
     "name": "stdout",
     "output_type": "stream",
     "text": [
      "FCFS Total Movement: 671\n"
     ]
    }
   ],
   "source": [
    "# track queue\n",
    "q = [88, 150, 44, 172, 30, 15, 195]  \n",
    "\n",
    "# Current position\n",
    "pos = 50  \n",
    "# Total movements\n",
    "mov = 0 \n",
    "\n",
    "for req in q:  \n",
    "    m = abs(req - pos) \n",
    "    mov += m  \n",
    "    pos = req  \n",
    "\n",
    "print(\"FCFS Total Movement:\", mov)\n"
   ]
  },
  {
   "cell_type": "markdown",
   "metadata": {},
   "source": [
    "### `SSTF` Disk Scheduling Algorithm"
   ]
  },
  {
   "cell_type": "code",
   "execution_count": 45,
   "metadata": {},
   "outputs": [
    {
     "name": "stdout",
     "output_type": "stream",
     "text": [
      "SSTF Total Movement: 215\n"
     ]
    }
   ],
   "source": [
    "import sys\n",
    "\n",
    "q = [88, 150, 44, 172, 30, 15, 195]\n",
    "pos = 50\n",
    "mov = 0\n",
    "\n",
    "while q:\n",
    "    closest_dist = sys.maxsize\n",
    "    closest_page = None\n",
    "\n",
    "    for page in q:\n",
    "        dist = abs(page - pos)\n",
    "        if dist < closest_dist:\n",
    "            closest_dist = dist\n",
    "            closest_page = page\n",
    "\n",
    "    mov += closest_dist\n",
    "    pos = closest_page\n",
    "    q.remove(closest_page)\n",
    "\n",
    "print(\"SSTF Total Movement:\", mov)\n"
   ]
  },
  {
   "cell_type": "markdown",
   "metadata": {},
   "source": [
    "### `SCAN` Disk Scheduling Algorithm"
   ]
  },
  {
   "cell_type": "code",
   "execution_count": 46,
   "metadata": {},
   "outputs": [
    {
     "name": "stdout",
     "output_type": "stream",
     "text": [
      "SCAN Total Movement: 333\n"
     ]
    }
   ],
   "source": [
    "q = [88, 150, 44, 172, 30, 15, 195]\n",
    "pos = 50\n",
    "mov = 0\n",
    "\n",
    "sorted_q = sorted(q)\n",
    "\n",
    "for t in sorted_q:\n",
    "    if t > pos:\n",
    "        mov += t - pos\n",
    "        pos = t\n",
    "\n",
    "if pos < 199:\n",
    "    mov += 199 - pos\n",
    "    pos = 199\n",
    "\n",
    "for t in reversed(sorted_q):\n",
    "    if t < pos:\n",
    "        mov += pos - t\n",
    "        pos = t\n",
    "\n",
    "print(\"SCAN Total Movement:\", mov)\n"
   ]
  },
  {
   "cell_type": "markdown",
   "metadata": {},
   "source": [
    "### `LOOK` Disk Scheduling Algorithm"
   ]
  },
  {
   "cell_type": "code",
   "execution_count": 47,
   "metadata": {},
   "outputs": [
    {
     "name": "stdout",
     "output_type": "stream",
     "text": [
      "LOOK Total Movement: 325\n"
     ]
    }
   ],
   "source": [
    "q = [88, 150, 44, 172, 30, 15, 195]\n",
    "pos = 50\n",
    "mov = 0\n",
    "\n",
    "sorted_q = sorted(q)\n",
    "\n",
    "idx = 0\n",
    "for i, t in enumerate(sorted_q):\n",
    "    if pos <= t:\n",
    "        break\n",
    "    idx = i + 1\n",
    "\n",
    "cur = pos\n",
    "for t in sorted_q[idx:]:\n",
    "    mov += abs(t - cur)\n",
    "    cur = t\n",
    "\n",
    "for t in sorted_q[idx-1::-1]:\n",
    "    mov += abs(t - cur)\n",
    "    cur = t\n",
    "\n",
    "print(\"LOOK Total Movement:\", mov)\n"
   ]
  },
  {
   "cell_type": "markdown",
   "metadata": {},
   "source": [
    "### `C-SCAN` Disk Scheduling Algorithm"
   ]
  },
  {
   "cell_type": "code",
   "execution_count": 48,
   "metadata": {},
   "outputs": [
    {
     "name": "stdout",
     "output_type": "stream",
     "text": [
      "C-SCAN Total Movement: 371\n"
     ]
    }
   ],
   "source": [
    "q = [88, 150, 44, 172, 30, 15, 195]\n",
    "pos = 50\n",
    "mov = 0\n",
    "\n",
    "sorted_q = sorted(q)\n",
    "\n",
    "cur = pos\n",
    "\n",
    "for t in sorted_q:\n",
    "    if t >= cur:\n",
    "        mov += t - cur\n",
    "        cur = t\n",
    "\n",
    "if cur < 199:\n",
    "    mov += 199 - cur\n",
    "    cur = 199\n",
    "\n",
    "for t in sorted_q[::-1]:\n",
    "    if t < pos:\n",
    "        mov += cur - pos\n",
    "        mov += cur - sorted_q[0]\n",
    "        cur = sorted_q[0]\n",
    "        break\n",
    "    if t > cur:\n",
    "        continue\n",
    "    mov += cur - t\n",
    "    cur = t\n",
    "\n",
    "print(\"C-SCAN Total Movement:\", mov)"
   ]
  },
  {
   "cell_type": "markdown",
   "metadata": {},
   "source": [
    "### `C-LOOK` Disk Scheduling Algorithm"
   ]
  },
  {
   "cell_type": "code",
   "execution_count": 49,
   "metadata": {},
   "outputs": [
    {
     "name": "stdout",
     "output_type": "stream",
     "text": [
      "C-LOOK Total Movement: 340\n"
     ]
    }
   ],
   "source": [
    "q = [88, 150, 44, 172, 30, 15, 195]\n",
    "pos = 50\n",
    "mov = 0\n",
    "\n",
    "sorted_q = sorted(q)\n",
    "\n",
    "for t in sorted_q:\n",
    "    if t >= pos:\n",
    "        mov += t - pos\n",
    "        pos = t\n",
    "\n",
    "for t in sorted_q[::-1]:\n",
    "    if t < pos:\n",
    "        break\n",
    "    mov += pos - t\n",
    "    pos = t\n",
    "\n",
    "mov += pos\n",
    "\n",
    "print(\"C-LOOK Total Movement:\", mov)"
   ]
  }
 ],
 "metadata": {
  "kernelspec": {
   "display_name": "base",
   "language": "python",
   "name": "python3"
  },
  "language_info": {
   "codemirror_mode": {
    "name": "ipython",
    "version": 3
   },
   "file_extension": ".py",
   "mimetype": "text/x-python",
   "name": "python",
   "nbconvert_exporter": "python",
   "pygments_lexer": "ipython3",
   "version": "3.9.13"
  },
  "orig_nbformat": 4
 },
 "nbformat": 4,
 "nbformat_minor": 2
}
