{
 "cells": [
  {
   "cell_type": "code",
   "execution_count": 63,
   "metadata": {},
   "outputs": [],
   "source": [
    "memory_size = 3\n",
    "page_sequence = [2, 3, 2, 1, 5, 2, 4, 5, 3, 2, 5, 2]\n",
    "memory = []\n",
    "miss = 0\n",
    "hits = 0"
   ]
  },
  {
   "cell_type": "code",
   "execution_count": 64,
   "metadata": {},
   "outputs": [
    {
     "name": "stdout",
     "output_type": "stream",
     "text": [
      "Page: 2 \tMemory: [2]\n",
      "Page: 3 \tMemory: [2, 3]\n",
      "Page: 2 \tMemory: [2, 3]\n",
      "Page: 1 \tMemory: [2, 3, 1]\n",
      "Page: 5 \tMemory: [3, 1, 5]\n",
      "Page: 2 \tMemory: [1, 5, 2]\n",
      "Page: 4 \tMemory: [5, 2, 4]\n",
      "Page: 5 \tMemory: [5, 2, 4]\n",
      "Page: 3 \tMemory: [2, 4, 3]\n",
      "Page: 2 \tMemory: [2, 4, 3]\n",
      "Page: 5 \tMemory: [4, 3, 5]\n",
      "Page: 2 \tMemory: [3, 5, 2]\n",
      "FIFO Hit Ratio: 25.0\n",
      "FIFO Miss Ratio: 75.0\n"
     ]
    }
   ],
   "source": [
    "# FIFO Algorithm\n",
    "for page in page_sequence:\n",
    "    if page in memory:\n",
    "        hits += 1\n",
    "    else:\n",
    "        miss += 1\n",
    "        if len(memory) < memory_size:\n",
    "            memory.append(page)\n",
    "        else:\n",
    "            memory.pop(0)\n",
    "            memory.append(page)\n",
    "    print(\"Page:\", page, \"\\tMemory:\", memory)\n",
    "\n",
    "hit_ratio = hits / len(page_sequence)*100\n",
    "miss_ratio = miss / len(page_sequence)*100\n",
    "print(\"FIFO Hit Ratio:\", hit_ratio)\n",
    "print(\"FIFO Miss Ratio:\", miss_ratio)\n"
   ]
  },
  {
   "cell_type": "code",
   "execution_count": 65,
   "metadata": {},
   "outputs": [
    {
     "name": "stdout",
     "output_type": "stream",
     "text": [
      "Page: 2 \tMemory: [2]\n",
      "Page: 3 \tMemory: [2, 3]\n",
      "Page: 2 \tMemory: [2, 3]\n",
      "Page: 1 \tMemory: [2, 3, 1]\n",
      "Page: 5 \tMemory: [2, 5, 1]\n",
      "Page: 2 \tMemory: [2, 5, 1]\n",
      "Page: 4 \tMemory: [2, 4, 1]\n",
      "Page: 5 \tMemory: [2, 5, 1]\n",
      "Page: 3 \tMemory: [2, 5, 3]\n",
      "Page: 2 \tMemory: [2, 5, 3]\n",
      "Page: 5 \tMemory: [2, 5, 3]\n",
      "Page: 2 \tMemory: [2, 5, 3]\n",
      "OPR Hit Ratio: 41.66666666666667\n",
      "OPR Miss Ratio: 58.333333333333336\n"
     ]
    }
   ],
   "source": [
    "memory = []\n",
    "miss = 0\n",
    "hits = 0\n",
    "\n",
    "# OPR Algorithm\n",
    "for page in page_sequence:\n",
    "    if page in memory:\n",
    "        hits += 1\n",
    "    else:\n",
    "        miss += 1\n",
    "        if len(memory) < memory_size:\n",
    "            memory.append(page)\n",
    "        else:\n",
    "            future_pages = page_sequence[page_sequence.index(page):]\n",
    "            future_memory = [x for x in memory if x in future_pages]\n",
    "            if future_memory:\n",
    "                page_to_replace = memory.index(future_memory[-1])\n",
    "                memory[page_to_replace] = page\n",
    "    print(\"Page:\", page, \"\\tMemory:\", memory)\n",
    "\n",
    "hit_ratio = hits / len(page_sequence)*100\n",
    "miss_ratio = miss / len(page_sequence)*100\n",
    "print(\"OPR Hit Ratio:\", hit_ratio)\n",
    "print(\"OPR Miss Ratio:\", miss_ratio)\n"
   ]
  },
  {
   "cell_type": "code",
   "execution_count": 66,
   "metadata": {},
   "outputs": [
    {
     "name": "stdout",
     "output_type": "stream",
     "text": [
      "Page: 2 \tMemory: [2]\n",
      "Page: 3 \tMemory: [2, 3]\n",
      "Page: 2 \tMemory: [3, 2]\n",
      "Page: 1 \tMemory: [3, 2, 1]\n",
      "Page: 5 \tMemory: [2, 1, 5]\n",
      "Page: 2 \tMemory: [1, 5, 2]\n",
      "Page: 4 \tMemory: [5, 2, 4]\n",
      "Page: 5 \tMemory: [2, 4, 5]\n",
      "Page: 3 \tMemory: [4, 5, 3]\n",
      "Page: 2 \tMemory: [5, 3, 2]\n",
      "Page: 5 \tMemory: [3, 2, 5]\n",
      "Page: 2 \tMemory: [3, 5, 2]\n",
      "LRU Hit Ratio: 41.66666666666667\n",
      "LRU Miss Ratio: 58.333333333333336\n"
     ]
    }
   ],
   "source": [
    "memory = []\n",
    "miss = 0\n",
    "hits = 0\n",
    "\n",
    "# LRU Algorithm\n",
    "for page in page_sequence:\n",
    "    if page in memory:\n",
    "        hits += 1\n",
    "        memory.remove(page)\n",
    "        memory.append(page)\n",
    "    else:\n",
    "        miss += 1\n",
    "        if len(memory) < memory_size:\n",
    "            memory.append(page)\n",
    "        else:\n",
    "            page_to_replace = memory.pop(0)\n",
    "            memory.append(page)\n",
    "    print(\"Page:\", page, \"\\tMemory:\", memory)\n",
    "\n",
    "hit_ratio = hits / len(page_sequence)*100\n",
    "miss_ratio = miss / len(page_sequence)*100\n",
    "print(\"LRU Hit Ratio:\", hit_ratio)\n",
    "print(\"LRU Miss Ratio:\", miss_ratio)"
   ]
  }
 ],
 "metadata": {
  "kernelspec": {
   "display_name": "base",
   "language": "python",
   "name": "python3"
  },
  "language_info": {
   "codemirror_mode": {
    "name": "ipython",
    "version": 3
   },
   "file_extension": ".py",
   "mimetype": "text/x-python",
   "name": "python",
   "nbconvert_exporter": "python",
   "pygments_lexer": "ipython3",
   "version": "3.9.13"
  },
  "orig_nbformat": 4
 },
 "nbformat": 4,
 "nbformat_minor": 2
}
