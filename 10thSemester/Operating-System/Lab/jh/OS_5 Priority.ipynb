{
 "cells": [
  {
   "cell_type": "code",
   "execution_count": 18,
   "id": "c69a4a3e",
   "metadata": {},
   "outputs": [
    {
     "name": "stdout",
     "output_type": "stream",
     "text": [
      "Number of process :6\n"
     ]
    }
   ],
   "source": [
    "n=int(input(\"Number of process :\"))"
   ]
  },
  {
   "cell_type": "code",
   "execution_count": 19,
   "id": "7277913f",
   "metadata": {},
   "outputs": [],
   "source": [
    "arr = [[0 for i in range(8)] for j in range(n)]"
   ]
  },
  {
   "cell_type": "code",
   "execution_count": 20,
   "id": "90f3ece9",
   "metadata": {},
   "outputs": [
    {
     "name": "stdout",
     "output_type": "stream",
     "text": [
      "[[0, 0, 0, 0, 0, 0, 0, 0], [0, 0, 0, 0, 0, 0, 0, 0], [0, 0, 0, 0, 0, 0, 0, 0], [0, 0, 0, 0, 0, 0, 0, 0], [0, 0, 0, 0, 0, 0, 0, 0], [0, 0, 0, 0, 0, 0, 0, 0]]\n"
     ]
    }
   ],
   "source": [
    "print(arr)"
   ]
  },
  {
   "cell_type": "code",
   "execution_count": 21,
   "id": "a4354065",
   "metadata": {},
   "outputs": [
    {
     "name": "stdout",
     "output_type": "stream",
     "text": [
      "1 0 2 12\n",
      "2 1 4 4\n",
      "3 0 6 10\n",
      "4 2 1 3\n",
      "5 3 5 6\n",
      "6 0 1 5\n"
     ]
    }
   ],
   "source": [
    "for i in range(n):\n",
    "    pid,at,bt,pr = input().split()\n",
    "    arr[i][0]=int(pid)\n",
    "    arr[i][1]=int(at)\n",
    "    arr[i][2]=int(bt)\n",
    "    arr[i][3]=int(pr)\n",
    "    "
   ]
  },
  {
   "cell_type": "code",
   "execution_count": 22,
   "id": "07ecfe56",
   "metadata": {},
   "outputs": [
    {
     "name": "stdout",
     "output_type": "stream",
     "text": [
      "[[1, 0, 2, 12, 0, 0, 0, 0], [2, 1, 4, 4, 0, 0, 0, 0], [3, 0, 6, 10, 0, 0, 0, 0], [4, 2, 1, 3, 0, 0, 0, 0], [5, 3, 5, 6, 0, 0, 0, 0], [6, 0, 1, 5, 0, 0, 0, 0]]\n"
     ]
    }
   ],
   "source": [
    "print(arr)"
   ]
  },
  {
   "cell_type": "code",
   "execution_count": 23,
   "id": "00fcb283",
   "metadata": {},
   "outputs": [],
   "source": [
    "arr = sorted(arr,key= lambda x:x[1])"
   ]
  },
  {
   "cell_type": "code",
   "execution_count": 24,
   "id": "833852eb",
   "metadata": {},
   "outputs": [
    {
     "name": "stdout",
     "output_type": "stream",
     "text": [
      "[[1, 0, 2, 12, 0, 0, 0, 0], [3, 0, 6, 10, 0, 0, 0, 0], [6, 0, 1, 5, 0, 0, 0, 0], [2, 1, 4, 4, 0, 0, 0, 0], [4, 2, 1, 3, 0, 0, 0, 0], [5, 3, 5, 6, 0, 0, 0, 0]]\n"
     ]
    }
   ],
   "source": [
    "print(arr)"
   ]
  },
  {
   "cell_type": "code",
   "execution_count": 26,
   "id": "33fe74cf",
   "metadata": {},
   "outputs": [],
   "source": [
    "def bubbleSort(arr,k):\n",
    "    for i in range(k,len(arr)):\n",
    "\n",
    "        for j in range(k,len(arr)+k-i-1):\n",
    "            \n",
    "            if arr[j][3] < arr[j+1][3] and arr[j][1] <= current_time and arr[j+1][1] <= current_time:\n",
    "                arr[j],arr[j+1] = arr[j+1], arr[j]\n",
    "    \n",
    "    return(arr)"
   ]
  },
  {
   "cell_type": "code",
   "execution_count": 27,
   "id": "cb9940ce",
   "metadata": {},
   "outputs": [],
   "source": [
    "avg_rt = 0\n",
    "avg_ct = 0\n",
    "avg_wt = 0\n",
    "avg_tt = 0\n",
    "current_time = 0\n",
    "for i in range(n):\n",
    "    bubbleSort(arr,i)\n",
    "    at = arr[i][1]\n",
    "    bt = arr[i][2]\n",
    "    if current_time < at:\n",
    "        current_time = at\n",
    "    starting_time = current_time\n",
    "    ct = starting_time + bt\n",
    "    arr[i][4] = starting_time - at #RT\n",
    "    arr[i][5] = ct                 #CT\n",
    "    arr[i][7] = ct - at            #TT\n",
    "    arr[i][6] = arr[i][7] - bt     #WT\n",
    "    \n",
    "    avg_rt = avg_rt + arr[i][4]\n",
    "    avg_ct = avg_ct + arr[i][5]\n",
    "    avg_wt = avg_wt + arr[i][6]\n",
    "    avg_tt = avg_tt + arr[i][7] \n",
    "    \n",
    "    current_time = ct"
   ]
  },
  {
   "cell_type": "code",
   "execution_count": 28,
   "id": "40423abd",
   "metadata": {},
   "outputs": [],
   "source": [
    "arr = sorted(arr,key= lambda x:x[0])\n"
   ]
  },
  {
   "cell_type": "code",
   "execution_count": 29,
   "id": "b66d66f6",
   "metadata": {},
   "outputs": [
    {
     "name": "stdout",
     "output_type": "stream",
     "text": [
      "[[1, 0, 2, 12, 0, 2, 0, 2], [2, 1, 4, 4, 13, 18, 13, 17], [3, 0, 6, 10, 2, 8, 2, 8], [4, 2, 1, 3, 16, 19, 16, 17], [5, 3, 5, 6, 5, 13, 5, 10], [6, 0, 1, 5, 13, 14, 13, 14]]\n"
     ]
    }
   ],
   "source": [
    "print(arr)"
   ]
  },
  {
   "cell_type": "code",
   "execution_count": null,
   "id": "a86710f3",
   "metadata": {},
   "outputs": [],
   "source": []
  }
 ],
 "metadata": {
  "kernelspec": {
   "display_name": "Python 3 (ipykernel)",
   "language": "python",
   "name": "python3"
  },
  "language_info": {
   "codemirror_mode": {
    "name": "ipython",
    "version": 3
   },
   "file_extension": ".py",
   "mimetype": "text/x-python",
   "name": "python",
   "nbconvert_exporter": "python",
   "pygments_lexer": "ipython3",
   "version": "3.9.12"
  }
 },
 "nbformat": 4,
 "nbformat_minor": 5
}
