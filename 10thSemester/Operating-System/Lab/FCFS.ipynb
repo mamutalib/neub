{
 "cells": [
  {
   "cell_type": "code",
   "execution_count": 6,
   "metadata": {},
   "outputs": [],
   "source": [
    "n = int(input(\"Number of process: \"))\n"
   ]
  },
  {
   "cell_type": "code",
   "execution_count": 7,
   "metadata": {},
   "outputs": [
    {
     "data": {
      "text/plain": [
       "[[0, 0, 0, 0, 0, 0, 0], [0, 0, 0, 0, 0, 0, 0], [0, 0, 0, 0, 0, 0, 0]]"
      ]
     },
     "execution_count": 7,
     "metadata": {},
     "output_type": "execute_result"
    }
   ],
   "source": [
    "arr = [[ 0 for i in range(7)]for j in range(n)]\n",
    "arr"
   ]
  },
  {
   "cell_type": "code",
   "execution_count": 8,
   "metadata": {},
   "outputs": [],
   "source": [
    "for i in range(n):\n",
    "    pid, at, bt = input().split()\n",
    "    arr[i][0] = int(pid)\n",
    "    arr[i][1] = int(at)\n",
    "    arr[i][2] = int(bt)"
   ]
  },
  {
   "cell_type": "code",
   "execution_count": 10,
   "metadata": {},
   "outputs": [
    {
     "data": {
      "text/plain": [
       "[[1, 6, 5, 0, 0, 0, 0], [2, 1, 4, 0, 0, 0, 0], [3, 7, 6, 0, 0, 0, 0]]"
      ]
     },
     "execution_count": 10,
     "metadata": {},
     "output_type": "execute_result"
    }
   ],
   "source": [
    "arr"
   ]
  },
  {
   "cell_type": "code",
   "execution_count": 11,
   "metadata": {},
   "outputs": [],
   "source": [
    "arr = sorted(arr, key=lambda x:x[1])"
   ]
  },
  {
   "cell_type": "code",
   "execution_count": 12,
   "metadata": {},
   "outputs": [
    {
     "data": {
      "text/plain": [
       "[[2, 1, 4, 0, 0, 0, 0], [1, 6, 5, 0, 0, 0, 0], [3, 7, 6, 0, 0, 0, 0]]"
      ]
     },
     "execution_count": 12,
     "metadata": {},
     "output_type": "execute_result"
    }
   ],
   "source": [
    "arr"
   ]
  },
  {
   "cell_type": "code",
   "execution_count": 16,
   "metadata": {},
   "outputs": [],
   "source": [
    "avg_rt = 0\n",
    "avg_ct = 0\n",
    "avg_wt = 0\n",
    "avg_tt = 0\n",
    "\n",
    "current_time = 0\n",
    "for i in range(n):\n",
    "\tat = arr[i][1]\n",
    "\tbt = arr[i][2]\n",
    "\tif current_time < at:\n",
    "\t\tcurrent_time = at\n",
    "\t\n",
    "\tstarting_time = current_time\n",
    "\tct = starting_time + bt\n",
    "\n",
    "\tarr[i][3] = starting_time - at \t#RT\n",
    "\tarr[i][4] = ct\t\t\t\t\t#CT\n",
    "\tarr[i][6] = ct-at \t\t\t\t#TT\n",
    "\tarr[i][5] = ct-bt \t\t\t\t#WT\n",
    "\n",
    "\tavg_rt = avg_rt + arr[i][3]\n",
    "\tavg_ct = avg_ct + arr[i][4]\n",
    "\tavg_wt = avg_wt + arr[i][5]\n",
    "\tavg_tt = avg_tt + arr[i][6]\n",
    "\n",
    "\tcurrent_time = ct\n",
    "\n",
    "\t\t"
   ]
  },
  {
   "cell_type": "code",
   "execution_count": 18,
   "metadata": {},
   "outputs": [
    {
     "data": {
      "text/plain": [
       "[[2, 1, 4, 0, 5, 1, 4], [1, 6, 5, 0, 11, 6, 5], [3, 7, 6, 4, 17, 11, 10]]"
      ]
     },
     "execution_count": 18,
     "metadata": {},
     "output_type": "execute_result"
    }
   ],
   "source": [
    "arr"
   ]
  },
  {
   "cell_type": "code",
   "execution_count": 23,
   "metadata": {},
   "outputs": [
    {
     "data": {
      "text/plain": [
       "[[1, 6, 5, 0, 11, 6, 5], [2, 1, 4, 0, 5, 1, 4], [3, 7, 6, 4, 17, 11, 10]]"
      ]
     },
     "execution_count": 23,
     "metadata": {},
     "output_type": "execute_result"
    }
   ],
   "source": [
    "arr=sorted(arr,key=lambda x:x[0])\n",
    "arr"
   ]
  },
  {
   "cell_type": "code",
   "execution_count": 19,
   "metadata": {},
   "outputs": [],
   "source": [
    "avg_rt = avg_rt / n\n",
    "avg_ct = avg_ct / n\n",
    "avg_wt = avg_wt / n\n",
    "avg_tt = avg_tt / n"
   ]
  },
  {
   "cell_type": "code",
   "execution_count": 22,
   "metadata": {},
   "outputs": [
    {
     "name": "stdout",
     "output_type": "stream",
     "text": [
      "AVG_RT :1.3333333333333333\n",
      "AVG_CT :11.0\n",
      "AVG_WT :6.0\n",
      "AVG_TT :6.333333333333333\n",
      "\n"
     ]
    }
   ],
   "source": [
    "print(\"AVG_RT :\" + str(avg_rt) + \"\\n\" + \"AVG_CT :\" +str(avg_ct) + \"\\n\" + \"AVG_WT :\" +str(avg_wt) + \"\\n\" + \"AVG_TT :\" +str(avg_tt) + \"\\n\")"
   ]
  }
 ],
 "metadata": {
  "kernelspec": {
   "display_name": "base",
   "language": "python",
   "name": "python3"
  },
  "language_info": {
   "codemirror_mode": {
    "name": "ipython",
    "version": 3
   },
   "file_extension": ".py",
   "mimetype": "text/x-python",
   "name": "python",
   "nbconvert_exporter": "python",
   "pygments_lexer": "ipython3",
   "version": "3.9.13"
  },
  "orig_nbformat": 4
 },
 "nbformat": 4,
 "nbformat_minor": 2
}
