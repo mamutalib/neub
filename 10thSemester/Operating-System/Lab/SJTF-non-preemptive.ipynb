{
 "cells": [
  {
   "cell_type": "code",
   "execution_count": 1,
   "metadata": {},
   "outputs": [],
   "source": [
    "n = int(input(\"Number of process: \"))"
   ]
  },
  {
   "cell_type": "code",
   "execution_count": 2,
   "metadata": {},
   "outputs": [
    {
     "data": {
      "text/plain": [
       "[[0, 0, 0, 0, 0, 0, 0],\n",
       " [0, 0, 0, 0, 0, 0, 0],\n",
       " [0, 0, 0, 0, 0, 0, 0],\n",
       " [0, 0, 0, 0, 0, 0, 0]]"
      ]
     },
     "execution_count": 2,
     "metadata": {},
     "output_type": "execute_result"
    }
   ],
   "source": [
    "arr = [[0 for i in range(7)] for j in range(n)]\n",
    "arr"
   ]
  },
  {
   "attachments": {},
   "cell_type": "markdown",
   "metadata": {},
   "source": [
    "1 9 5\n",
    "2 10 3\n",
    "3 8 3\n",
    "4 0 7"
   ]
  },
  {
   "cell_type": "code",
   "execution_count": 8,
   "metadata": {},
   "outputs": [],
   "source": [
    "for i in range(n):\n",
    "    pid, at, bt = input().split()\n",
    "    arr[i][0] = int(pid)\n",
    "    arr[i][1] = int(at)\n",
    "    arr[i][2] = int(bt)"
   ]
  },
  {
   "cell_type": "code",
   "execution_count": 9,
   "metadata": {},
   "outputs": [
    {
     "data": {
      "text/plain": [
       "[[1, 9, 5, 5, 0, 0, 0],\n",
       " [2, 10, 3, 3, 0, 0, 0],\n",
       " [3, 8, 3, 3, 0, 0, 0],\n",
       " [4, 0, 7, 7, 0, 0, 0]]"
      ]
     },
     "execution_count": 9,
     "metadata": {},
     "output_type": "execute_result"
    }
   ],
   "source": [
    "arr"
   ]
  },
  {
   "cell_type": "code",
   "execution_count": 10,
   "metadata": {},
   "outputs": [
    {
     "data": {
      "text/plain": [
       "[[4, 0, 7, 7, 0, 0, 0],\n",
       " [3, 8, 3, 3, 0, 0, 0],\n",
       " [1, 9, 5, 5, 0, 0, 0],\n",
       " [2, 10, 3, 3, 0, 0, 0]]"
      ]
     },
     "execution_count": 10,
     "metadata": {},
     "output_type": "execute_result"
    }
   ],
   "source": [
    "arr = sorted(arr,key=lambda x:x[1])\n",
    "arr"
   ]
  },
  {
   "cell_type": "code",
   "execution_count": 12,
   "metadata": {},
   "outputs": [],
   "source": [
    "def bubbleSort(arr,k):\n",
    "    for i in range(k,len(arr)):\n",
    "        for j in range(k, len(arr)+k-i-1):\n",
    "            if arr[j][2] > arr[j+1][2] and arr[j][1] <= current_time and arr[j+1][1] <= current_time:\n",
    "                arr[j],arr[j+1] = arr [j+1],arr[j]"
   ]
  },
  {
   "cell_type": "code",
   "execution_count": 14,
   "metadata": {},
   "outputs": [],
   "source": [
    "avg_rt = 0\n",
    "avg_ct = 0\n",
    "avg_wt = 0\n",
    "avg_tt = 0\n",
    "\n",
    "current_time = 0\n",
    "\n",
    "for i in range(n):\n",
    "\tbubbleSort(arr,i)\n",
    "\tat = arr[i][1]\n",
    "\tbt = arr[i][2]\n",
    "\tif current_time < at:\n",
    "\t\tcurrent_time = at\n",
    "\t\n",
    "\tstarting_time = current_time\n",
    "\tct = starting_time + bt\n",
    "\n",
    "\tarr[i][3] = starting_time - at \t#RT\n",
    "\tarr[i][4] = ct\t\t\t\t\t#CT\n",
    "\tarr[i][6] = ct-at\t\t\t\t#TT\n",
    "\tarr[i][5] = arr[i][6] -bt \t\t#WT\n",
    "\n",
    "\tavg_rt+=arr[i][3]\n",
    "\tavg_ct+=arr[i][4]\n",
    "\tavg_wt+=arr[i][5]\n",
    "\tavg_tt+=arr[i][6]\n",
    "\n",
    "\tcurrent_time = ct"
   ]
  },
  {
   "cell_type": "code",
   "execution_count": 15,
   "metadata": {},
   "outputs": [
    {
     "data": {
      "text/plain": [
       "[[4, 0, 7, 0, 7, 0, 7],\n",
       " [3, 8, 3, 0, 11, 0, 3],\n",
       " [2, 10, 3, 1, 14, 1, 4],\n",
       " [1, 9, 5, 5, 19, 5, 10]]"
      ]
     },
     "execution_count": 15,
     "metadata": {},
     "output_type": "execute_result"
    }
   ],
   "source": [
    "arr"
   ]
  },
  {
   "cell_type": "code",
   "execution_count": 17,
   "metadata": {},
   "outputs": [
    {
     "data": {
      "text/plain": [
       "[[1, 9, 5, 5, 19, 5, 10],\n",
       " [2, 10, 3, 1, 14, 1, 4],\n",
       " [3, 8, 3, 0, 11, 0, 3],\n",
       " [4, 0, 7, 0, 7, 0, 7]]"
      ]
     },
     "execution_count": 17,
     "metadata": {},
     "output_type": "execute_result"
    }
   ],
   "source": [
    "arr = sorted(arr,key=lambda x:x[0])\n",
    "arr"
   ]
  }
 ],
 "metadata": {
  "kernelspec": {
   "display_name": "base",
   "language": "python",
   "name": "python3"
  },
  "language_info": {
   "codemirror_mode": {
    "name": "ipython",
    "version": 3
   },
   "file_extension": ".py",
   "mimetype": "text/x-python",
   "name": "python",
   "nbconvert_exporter": "python",
   "pygments_lexer": "ipython3",
   "version": "3.9.13"
  },
  "orig_nbformat": 4
 },
 "nbformat": 4,
 "nbformat_minor": 2
}
