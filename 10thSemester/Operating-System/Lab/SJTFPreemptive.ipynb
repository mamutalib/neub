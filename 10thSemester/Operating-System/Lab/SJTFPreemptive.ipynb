{
 "cells": [
  {
   "cell_type": "code",
   "execution_count": 1,
   "metadata": {},
   "outputs": [
    {
     "name": "stdout",
     "output_type": "stream",
     "text": [
      "Number of Process: 5\n"
     ]
    }
   ],
   "source": [
    "n= int(input(\"Number of Process: \"))"
   ]
  },
  {
   "cell_type": "code",
   "execution_count": 2,
   "metadata": {},
   "outputs": [],
   "source": [
    "arr = [[0 for i in range(8)] for j in range(n)]"
   ]
  },
  {
   "cell_type": "code",
   "execution_count": 3,
   "metadata": {},
   "outputs": [
    {
     "name": "stdout",
     "output_type": "stream",
     "text": [
      "[[0, 0, 0, 0, 0, 0, 0, 0], [0, 0, 0, 0, 0, 0, 0, 0], [0, 0, 0, 0, 0, 0, 0, 0], [0, 0, 0, 0, 0, 0, 0, 0], [0, 0, 0, 0, 0, 0, 0, 0]]\n"
     ]
    }
   ],
   "source": [
    "print(arr)"
   ]
  },
  {
   "cell_type": "code",
   "execution_count": 4,
   "metadata": {},
   "outputs": [
    {
     "name": "stdout",
     "output_type": "stream",
     "text": [
      "1 2 3\n",
      "2 5 1\n",
      "3 6 2\n",
      "4 0 5\n",
      "5 0 7\n"
     ]
    }
   ],
   "source": [
    "for i in range(n):\n",
    "    pid, at, bt = input().split()\n",
    "    arr[i][0] = int(pid)\n",
    "    arr[i][1] = int(at)\n",
    "    arr[i][2] = int(bt)\n",
    "    arr[i][3] = int(bt) # remaining burst time"
   ]
  },
  {
   "cell_type": "code",
   "execution_count": 5,
   "metadata": {},
   "outputs": [
    {
     "name": "stdout",
     "output_type": "stream",
     "text": [
      "[[1, 2, 3, 3, 0, 0, 0, 0], [2, 5, 1, 1, 0, 0, 0, 0], [3, 6, 2, 2, 0, 0, 0, 0], [4, 0, 5, 5, 0, 0, 0, 0], [5, 0, 7, 7, 0, 0, 0, 0]]\n"
     ]
    }
   ],
   "source": [
    "print(arr)"
   ]
  },
  {
   "cell_type": "code",
   "execution_count": 6,
   "metadata": {},
   "outputs": [],
   "source": [
    "arr = sorted(arr, key=lambda x:x[1])"
   ]
  },
  {
   "cell_type": "code",
   "execution_count": 7,
   "metadata": {},
   "outputs": [
    {
     "name": "stdout",
     "output_type": "stream",
     "text": [
      "[[4, 0, 5, 5, 0, 0, 0, 0], [5, 0, 7, 7, 0, 0, 0, 0], [1, 2, 3, 3, 0, 0, 0, 0], [2, 5, 1, 1, 0, 0, 0, 0], [3, 6, 2, 2, 0, 0, 0, 0]]\n"
     ]
    }
   ],
   "source": [
    "print(arr)"
   ]
  },
  {
   "cell_type": "code",
   "execution_count": 10,
   "metadata": {},
   "outputs": [],
   "source": [
    "import sys\n"
   ]
  },
  {
   "cell_type": "code",
   "execution_count": 11,
   "metadata": {},
   "outputs": [],
   "source": [
    "c = 0\n",
    "current_time = arr[0][1]\n",
    "while(c<n):\n",
    "    idx = -1\n",
    "    sbt = sys.maxsize\n",
    "    for i in range(n):\n",
    "        if arr[i][1] <= current_time and arr[i][3] < sbt and arr[i][3] != 0:\n",
    "            sbt = arr[i][3]\n",
    "            idx = i\n",
    "    if idx != -1:\n",
    "        if arr[idx][2] == arr[idx][3]:\n",
    "            arr[idx][4] = current_time - arr[idx][1]\n",
    "        arr[idx][3] = arr[idx][3] - 1\n",
    "    current_time = current_time + 1\n",
    "    if arr[idx][3] == 0:\n",
    "        arr[idx][5] = current_time\n",
    "        c = c+1"
   ]
  },
  {
   "cell_type": "code",
   "execution_count": 12,
   "metadata": {},
   "outputs": [
    {
     "name": "stdout",
     "output_type": "stream",
     "text": [
      "[[4, 0, 5, 0, 0, 5, 0, 0], [5, 0, 7, 0, 11, 18, 0, 0], [1, 2, 3, 0, 6, 11, 0, 0], [2, 5, 1, 0, 0, 6, 0, 0], [3, 6, 2, 0, 0, 8, 0, 0]]\n"
     ]
    }
   ],
   "source": [
    "print(arr)"
   ]
  },
  {
   "cell_type": "code",
   "execution_count": 13,
   "metadata": {},
   "outputs": [],
   "source": [
    "arr = sorted(arr, key=lambda x:x[0])"
   ]
  },
  {
   "cell_type": "code",
   "execution_count": 14,
   "metadata": {},
   "outputs": [
    {
     "name": "stdout",
     "output_type": "stream",
     "text": [
      "[[1, 2, 3, 0, 6, 11, 0, 0], [2, 5, 1, 0, 0, 6, 0, 0], [3, 6, 2, 0, 0, 8, 0, 0], [4, 0, 5, 0, 0, 5, 0, 0], [5, 0, 7, 0, 11, 18, 0, 0]]\n"
     ]
    }
   ],
   "source": [
    "print(arr)"
   ]
  },
  {
   "cell_type": "code",
   "execution_count": 15,
   "metadata": {},
   "outputs": [],
   "source": [
    "for i in range(n):\n",
    "    arr[i][7] = arr[i][5] - arr[i][1]\n",
    "    arr[i][6] = arr[i][7] - arr[i][2] "
   ]
  },
  {
   "cell_type": "code",
   "execution_count": 16,
   "metadata": {},
   "outputs": [
    {
     "name": "stdout",
     "output_type": "stream",
     "text": [
      "[[1, 2, 3, 0, 6, 11, 6, 9], [2, 5, 1, 0, 0, 6, 0, 1], [3, 6, 2, 0, 0, 8, 0, 2], [4, 0, 5, 0, 0, 5, 0, 5], [5, 0, 7, 0, 11, 18, 11, 18]]\n"
     ]
    }
   ],
   "source": [
    "print(arr)"
   ]
  },
  {
   "cell_type": "code",
   "execution_count": null,
   "metadata": {},
   "outputs": [],
   "source": []
  }
 ],
 "metadata": {
  "kernelspec": {
   "display_name": "Python 3",
   "language": "python",
   "name": "python3"
  },
  "language_info": {
   "codemirror_mode": {
    "name": "ipython",
    "version": 3
   },
   "file_extension": ".py",
   "mimetype": "text/x-python",
   "name": "python",
   "nbconvert_exporter": "python",
   "pygments_lexer": "ipython3",
   "version": "3.8.3"
  }
 },
 "nbformat": 4,
 "nbformat_minor": 4
}
