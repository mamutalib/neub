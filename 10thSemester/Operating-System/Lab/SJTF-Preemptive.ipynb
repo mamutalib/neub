{
 "cells": [
  {
   "cell_type": "code",
   "execution_count": 1,
   "metadata": {},
   "outputs": [],
   "source": [
    "n= int(input(\"Number of Process: \"))"
   ]
  },
  {
   "cell_type": "code",
   "execution_count": 2,
   "metadata": {},
   "outputs": [
    {
     "data": {
      "text/plain": [
       "[[0, 0, 0, 0, 0, 0, 0, 0],\n",
       " [0, 0, 0, 0, 0, 0, 0, 0],\n",
       " [0, 0, 0, 0, 0, 0, 0, 0],\n",
       " [0, 0, 0, 0, 0, 0, 0, 0],\n",
       " [0, 0, 0, 0, 0, 0, 0, 0]]"
      ]
     },
     "execution_count": 2,
     "metadata": {},
     "output_type": "execute_result"
    }
   ],
   "source": [
    "arr = [[0 for i in range(8)] for j in range(n)]\n",
    "arr"
   ]
  },
  {
   "cell_type": "code",
   "execution_count": 4,
   "metadata": {},
   "outputs": [],
   "source": [
    "for i in range(n):\n",
    "    pid, at, bt = input().split()\n",
    "    arr[i][0] = int(pid)\n",
    "    arr[i][1] = int(at)\n",
    "    arr[i][2] = int(bt)\n",
    "    arr[i][3] = int(bt) # remaining burst time"
   ]
  },
  {
   "cell_type": "code",
   "execution_count": 5,
   "metadata": {},
   "outputs": [
    {
     "data": {
      "text/plain": [
       "[[1, 2, 3, 3, 0, 0, 0, 0],\n",
       " [2, 5, 1, 1, 0, 0, 0, 0],\n",
       " [3, 6, 2, 2, 0, 0, 0, 0],\n",
       " [4, 0, 5, 5, 0, 0, 0, 0],\n",
       " [5, 0, 7, 7, 0, 0, 0, 0]]"
      ]
     },
     "execution_count": 5,
     "metadata": {},
     "output_type": "execute_result"
    }
   ],
   "source": [
    "arr"
   ]
  },
  {
   "cell_type": "code",
   "execution_count": 7,
   "metadata": {},
   "outputs": [
    {
     "data": {
      "text/plain": [
       "[[4, 0, 5, 5, 0, 0, 0, 0],\n",
       " [5, 0, 7, 7, 0, 0, 0, 0],\n",
       " [1, 2, 3, 3, 0, 0, 0, 0],\n",
       " [2, 5, 1, 1, 0, 0, 0, 0],\n",
       " [3, 6, 2, 2, 0, 0, 0, 0]]"
      ]
     },
     "execution_count": 7,
     "metadata": {},
     "output_type": "execute_result"
    }
   ],
   "source": [
    "arr = sorted(arr, key=lambda x:x[1])\n",
    "arr"
   ]
  },
  {
   "cell_type": "code",
   "execution_count": 8,
   "metadata": {},
   "outputs": [],
   "source": [
    "import sys"
   ]
  },
  {
   "cell_type": "code",
   "execution_count": 12,
   "metadata": {},
   "outputs": [],
   "source": [
    "c = 0\n",
    "current_time = arr[0][1]\n",
    "\n",
    "while(c<n):\n",
    "\tidx = -1\n",
    "\tsbt = sys.maxsize\n",
    "\tfor i in range(n):\n",
    "\t\tif arr[i][1] <= current_time and arr[i][3] < sbt and arr[i][3] !=0:\n",
    "\t\t\tsbt = arr[i][3]\n",
    "\t\t\tidx = i\n",
    "\tif idx !=-1:\n",
    "\t\tif arr[idx][2] == arr[idx][3]:\n",
    "\t\t\tarr[idx][4] = current_time - arr[idx][1]\n",
    "\t\tarr[idx][3] = arr[idx][3]-1\n",
    "\tcurrent_time = current_time + 1\n",
    "\tif arr[idx][3] == 0:\n",
    "\t\tarr[idx][5] = current_time\n",
    "\t\tc = c+1"
   ]
  },
  {
   "cell_type": "code",
   "execution_count": 13,
   "metadata": {},
   "outputs": [
    {
     "data": {
      "text/plain": [
       "[[4, 0, 5, 0, 0, 5, 0, 0],\n",
       " [5, 0, 7, 0, 11, 18, 0, 0],\n",
       " [1, 2, 3, 0, 6, 11, 0, 0],\n",
       " [2, 5, 1, 0, 0, 6, 0, 0],\n",
       " [3, 6, 2, 0, 0, 8, 0, 0]]"
      ]
     },
     "execution_count": 13,
     "metadata": {},
     "output_type": "execute_result"
    }
   ],
   "source": [
    "arr"
   ]
  },
  {
   "cell_type": "code",
   "execution_count": 14,
   "metadata": {},
   "outputs": [
    {
     "data": {
      "text/plain": [
       "[[1, 2, 3, 0, 6, 11, 0, 0],\n",
       " [2, 5, 1, 0, 0, 6, 0, 0],\n",
       " [3, 6, 2, 0, 0, 8, 0, 0],\n",
       " [4, 0, 5, 0, 0, 5, 0, 0],\n",
       " [5, 0, 7, 0, 11, 18, 0, 0]]"
      ]
     },
     "execution_count": 14,
     "metadata": {},
     "output_type": "execute_result"
    }
   ],
   "source": [
    "arr = sorted(arr, key=lambda x:x[0])\n",
    "arr"
   ]
  },
  {
   "cell_type": "code",
   "execution_count": 15,
   "metadata": {},
   "outputs": [],
   "source": [
    "for i in range(n):\n",
    "\tarr[i][7] = arr[i][5]-arr[i][1]\n",
    "\tarr[i][6] = arr[i][7]-arr[i][2]"
   ]
  },
  {
   "cell_type": "code",
   "execution_count": 16,
   "metadata": {},
   "outputs": [
    {
     "data": {
      "text/plain": [
       "[[1, 2, 3, 0, 6, 11, 6, 9],\n",
       " [2, 5, 1, 0, 0, 6, 0, 1],\n",
       " [3, 6, 2, 0, 0, 8, 0, 2],\n",
       " [4, 0, 5, 0, 0, 5, 0, 5],\n",
       " [5, 0, 7, 0, 11, 18, 11, 18]]"
      ]
     },
     "execution_count": 16,
     "metadata": {},
     "output_type": "execute_result"
    }
   ],
   "source": [
    "arr"
   ]
  }
 ],
 "metadata": {
  "kernelspec": {
   "display_name": "base",
   "language": "python",
   "name": "python3"
  },
  "language_info": {
   "codemirror_mode": {
    "name": "ipython",
    "version": 3
   },
   "file_extension": ".py",
   "mimetype": "text/x-python",
   "name": "python",
   "nbconvert_exporter": "python",
   "pygments_lexer": "ipython3",
   "version": "3.9.13"
  },
  "orig_nbformat": 4
 },
 "nbformat": 4,
 "nbformat_minor": 2
}
