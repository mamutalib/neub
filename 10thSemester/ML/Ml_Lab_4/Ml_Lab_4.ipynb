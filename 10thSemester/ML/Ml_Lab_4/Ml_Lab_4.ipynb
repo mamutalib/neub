{
 "cells": [
  {
   "cell_type": "code",
   "execution_count": 28,
   "metadata": {},
   "outputs": [],
   "source": [
    "import pandas as pd\n",
    "import matplotlib.pyplot as plt\n",
    "from sklearn import linear_model\n",
    "import numpy as np"
   ]
  },
  {
   "cell_type": "code",
   "execution_count": 29,
   "metadata": {},
   "outputs": [],
   "source": [
    "data1 = pd.read_csv('KNN_tarin_test_data.csv')\n",
    "data1\n",
    "data=np.array(data1)\n",
    "data\n",
    "x,y=int(13),int(15)"
   ]
  },
  {
   "cell_type": "code",
   "execution_count": 30,
   "metadata": {},
   "outputs": [
    {
     "data": {
      "text/plain": [
       "array([0., 0., 0., 0., 0., 0., 0., 0., 0., 0.])"
      ]
     },
     "execution_count": 30,
     "metadata": {},
     "output_type": "execute_result"
    }
   ],
   "source": [
    "dis=np.zeros(len(data))\n",
    "dis"
   ]
  },
  {
   "cell_type": "code",
   "execution_count": 31,
   "metadata": {},
   "outputs": [],
   "source": [
    "for i in range(len(data)):\n",
    "    dis[i]=np.sqrt(((x-data[i,0])**2)+((y-data[i,1])**2))"
   ]
  },
  {
   "cell_type": "code",
   "execution_count": 32,
   "metadata": {},
   "outputs": [
    {
     "data": {
      "text/plain": [
       "array([11.18033989, 12.80624847,  5.65685425,  5.83095189,  4.12310563,\n",
       "        7.61577311,  5.09901951,  9.21954446,  8.06225775,  5.83095189])"
      ]
     },
     "execution_count": 32,
     "metadata": {},
     "output_type": "execute_result"
    }
   ],
   "source": [
    "dis\n",
    "    \n",
    "    "
   ]
  },
  {
   "cell_type": "code",
   "execution_count": 25,
   "metadata": {},
   "outputs": [],
   "source": [
    "new_data=np.insert(data,2,dis,axis=1)\n",
    "new_data\n",
    "new_data=sorted(new_data,key=lambda x:x[2])\n",
    "new_data\n",
    "c1,cz=0,0"
   ]
  },
  {
   "cell_type": "code",
   "execution_count": 26,
   "metadata": {},
   "outputs": [],
   "source": [
    "for i in range(5):\n",
    "    if new_data[i][3] == 1:\n",
    "        c1 += 1\n",
    "    else:\n",
    "        cz += 1"
   ]
  },
  {
   "cell_type": "code",
   "execution_count": 27,
   "metadata": {},
   "outputs": [
    {
     "name": "stdout",
     "output_type": "stream",
     "text": [
      "3 2\n",
      "class 1\n"
     ]
    }
   ],
   "source": [
    "print(c1,cz)\n",
    "if c1 > cz:\n",
    "    print('class 1')\n",
    "else:\n",
    "    print('class 0')"
   ]
  },
  {
   "cell_type": "code",
   "execution_count": 33,
   "metadata": {},
   "outputs": [
    {
     "data": {
      "text/plain": [
       "[array([14, 11,  4,  0], dtype=int64),\n",
       " array([ 9, 19,  5,  1], dtype=int64),\n",
       " array([ 8, 12,  5,  0], dtype=int64),\n",
       " array([12, 20,  5,  1], dtype=int64),\n",
       " array([18, 18,  5,  1], dtype=int64),\n",
       " array([10,  8,  7,  0], dtype=int64),\n",
       " array([17, 22,  8,  1], dtype=int64),\n",
       " array([20, 21,  9,  1], dtype=int64),\n",
       " array([ 3, 10, 11,  0], dtype=int64),\n",
       " array([ 5,  5, 12,  0], dtype=int64)]"
      ]
     },
     "execution_count": 33,
     "metadata": {},
     "output_type": "execute_result"
    }
   ],
   "source": [
    "new_data"
   ]
  }
 ],
 "metadata": {
  "kernelspec": {
   "display_name": "Python 3",
   "language": "python",
   "name": "python3"
  },
  "language_info": {
   "codemirror_mode": {
    "name": "ipython",
    "version": 3
   },
   "file_extension": ".py",
   "mimetype": "text/x-python",
   "name": "python",
   "nbconvert_exporter": "python",
   "pygments_lexer": "ipython3",
   "version": "3.8.5"
  }
 },
 "nbformat": 4,
 "nbformat_minor": 4
}
